{
 "cells": [
  {
   "cell_type": "markdown",
   "id": "e0d9703a",
   "metadata": {},
   "source": [
    "## GreyWolf Optimizer"
   ]
  },
  {
   "cell_type": "code",
   "execution_count": 1,
   "id": "4cb54a3f",
   "metadata": {},
   "outputs": [
    {
     "name": "stdout",
     "output_type": "stream",
     "text": [
      "Requirement already satisfied: numpy in ./venv/lib/python3.8/site-packages (1.20.3)\r\n"
     ]
    }
   ],
   "source": [
    "!pip install numpy"
   ]
  },
  {
   "cell_type": "code",
   "execution_count": 18,
   "id": "b1426cdd",
   "metadata": {},
   "outputs": [],
   "source": [
    "import numpy as np"
   ]
  },
  {
   "cell_type": "code",
   "execution_count": 26,
   "id": "47bf2a96",
   "metadata": {},
   "outputs": [],
   "source": [
    "class wolf:\n",
    "    \n",
    "    def __init__(self, dim):\n",
    "        self.position = 100 * np.random.rand(dim)\n",
    "        self.obj_score = float('inf')"
   ]
  },
  {
   "cell_type": "code",
   "execution_count": 27,
   "id": "0d95cbbb",
   "metadata": {},
   "outputs": [],
   "source": [
    "def GWO(obj_fun, soln_dim, wolves_n, iter_n):\n",
    "    \n",
    "    # obj_fun   - objective function to be minimized\n",
    "    # soln_dim  - dimension of solution vector\n",
    "    # wolves_n    - no. of searching wolves\n",
    "    # iter_n    - no of iterations\n",
    "    \n",
    "    wolves = []\n",
    "    \n",
    "    # 1] Initialize positions of wolves randomly\n",
    "    \n",
    "    for i in range(wolves_n):\n",
    "        w = wolf(soln_dim)\n",
    "        print(w.position)\n",
    "        wolves.append(w)\n",
    "    \n",
    "    # 2] Loop 3-5  iter_n times\n",
    "    for i in range(iter_n):\n",
    "        \n",
    "    #   3] Calculate objective function for all wolves\n",
    "        for w in wolves:\n",
    "            w.obj_score = obj_fun(w.position)\n",
    "            \n",
    "    #   4] Find best 3 solutions as alpha, beta and gamma\n",
    "        if \n",
    "    \n",
    "    #   5] Update positions of rest of wolves based on GWO mathematical formula\n",
    "    \n",
    "    # 6] Return best solution (alpha)\n",
    "    \n",
    "    \n",
    "    return 0\n",
    "    "
   ]
  },
  {
   "cell_type": "code",
   "execution_count": 28,
   "id": "69814e82",
   "metadata": {},
   "outputs": [],
   "source": [
    "def dummy_obj_fun(sol):\n",
    "    return sum(sol)"
   ]
  },
  {
   "cell_type": "code",
   "execution_count": 29,
   "id": "2c67a160",
   "metadata": {},
   "outputs": [
    {
     "name": "stdout",
     "output_type": "stream",
     "text": [
      "[45.57986336  7.02043247]\n",
      "[69.52543406 96.03150502]\n",
      "[66.07511705 61.61078717]\n",
      "[79.30718256 13.57069036]\n",
      "[90.48813897 70.12241353]\n",
      "[66.04137519 83.10667339]\n",
      "[82.82545928 13.3666488 ]\n",
      "[81.98948561 26.32532117]\n",
      "[47.22632812 32.47537791]\n",
      "[77.35685722 48.14857229]\n"
     ]
    },
    {
     "data": {
      "text/plain": [
       "0"
      ]
     },
     "execution_count": 29,
     "metadata": {},
     "output_type": "execute_result"
    }
   ],
   "source": [
    "GWO(dummy_obj_fun, 2, 10, 10)"
   ]
  },
  {
   "cell_type": "code",
   "execution_count": null,
   "id": "4bc8ca10",
   "metadata": {},
   "outputs": [],
   "source": []
  },
  {
   "cell_type": "code",
   "execution_count": null,
   "id": "d04fe293",
   "metadata": {},
   "outputs": [],
   "source": []
  }
 ],
 "metadata": {
  "kernelspec": {
   "display_name": "Python 3",
   "language": "python",
   "name": "python3"
  },
  "language_info": {
   "codemirror_mode": {
    "name": "ipython",
    "version": 3
   },
   "file_extension": ".py",
   "mimetype": "text/x-python",
   "name": "python",
   "nbconvert_exporter": "python",
   "pygments_lexer": "ipython3",
   "version": "3.8.5"
  }
 },
 "nbformat": 4,
 "nbformat_minor": 5
}
