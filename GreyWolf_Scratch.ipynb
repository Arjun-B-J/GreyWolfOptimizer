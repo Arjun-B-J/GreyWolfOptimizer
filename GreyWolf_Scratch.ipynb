{
 "cells": [
  {
   "cell_type": "markdown",
   "id": "e0d9703a",
   "metadata": {},
   "source": [
    "## GreyWolf Optimizer"
   ]
  },
  {
   "cell_type": "code",
   "execution_count": 65,
   "id": "4cb54a3f",
   "metadata": {},
   "outputs": [
    {
     "name": "stdout",
     "output_type": "stream",
     "text": [
      "Requirement already satisfied: numpy in ./venv/lib/python3.8/site-packages (1.20.3)\n",
      "Requirement already satisfied: matplotlib in ./venv/lib/python3.8/site-packages (3.4.2)\n",
      "Requirement already satisfied: pillow>=6.2.0 in ./venv/lib/python3.8/site-packages (from matplotlib) (8.2.0)\n",
      "Requirement already satisfied: python-dateutil>=2.7 in ./venv/lib/python3.8/site-packages (from matplotlib) (2.8.1)\n",
      "Requirement already satisfied: kiwisolver>=1.0.1 in ./venv/lib/python3.8/site-packages (from matplotlib) (1.3.1)\n",
      "Requirement already satisfied: numpy>=1.16 in ./venv/lib/python3.8/site-packages (from matplotlib) (1.20.3)\n",
      "Requirement already satisfied: cycler>=0.10 in ./venv/lib/python3.8/site-packages (from matplotlib) (0.10.0)\n",
      "Requirement already satisfied: pyparsing>=2.2.1 in ./venv/lib/python3.8/site-packages (from matplotlib) (2.4.7)\n",
      "Requirement already satisfied: six>=1.5 in ./venv/lib/python3.8/site-packages (from python-dateutil>=2.7->matplotlib) (1.16.0)\n"
     ]
    }
   ],
   "source": [
    "!pip install numpy\n",
    "!pip install matplotlib"
   ]
  },
  {
   "cell_type": "code",
   "execution_count": 101,
   "id": "b1426cdd",
   "metadata": {},
   "outputs": [],
   "source": [
    "import numpy as np\n",
    "from matplotlib import pyplot as plt"
   ]
  },
  {
   "cell_type": "code",
   "execution_count": 102,
   "id": "47bf2a96",
   "metadata": {},
   "outputs": [],
   "source": [
    "class wolf:\n",
    "    \n",
    "    def __init__(self, dim):\n",
    "        self.position = 100 * np.random.rand(dim)\n",
    "        self.obj_score = float('inf')"
   ]
  },
  {
   "cell_type": "code",
   "execution_count": 110,
   "id": "0d95cbbb",
   "metadata": {},
   "outputs": [],
   "source": [
    "def GWO(obj_fun, soln_dim, wolves_n, iter_n):\n",
    "    \n",
    "    # obj_fun   - objective function to be minimized\n",
    "    # soln_dim  - dimension of solution vector\n",
    "    # wolves_n  - no. of searching wolves\n",
    "    # iter_n    - no of iterations\n",
    "    \n",
    "    wolves = []\n",
    "    \n",
    "    # 1] Initialize positions of wolves randomly\n",
    "    \n",
    "    for i in range(wolves_n):\n",
    "        w = wolf(soln_dim)\n",
    "        #print(w.position)\n",
    "        wolves.append(w)\n",
    "    \n",
    "    alpha , beta, delta = wolves[:3]\n",
    "    \n",
    "    score_history = {\n",
    "        'alpha' : [],\n",
    "        'beta' : [],\n",
    "        'delta' : []\n",
    "    }\n",
    "    \n",
    "    # 2] Loop 3-4  iter_n times\n",
    "    \n",
    "    for i in range(iter_n):\n",
    "        \n",
    "    #   3] Calculate objective function for all wolves and find best 3 alpha, beta & gamma\n",
    "        \n",
    "        for w in wolves:\n",
    "            w.obj_score = obj_fun(w.position)\n",
    "            \n",
    "            if w.obj_score <= alpha.obj_score:\n",
    "                delta = beta\n",
    "                beta = alpha\n",
    "                alpha = w\n",
    "            \n",
    "            elif w.obj_score <= beta.obj_score:\n",
    "                delta = beta\n",
    "                beta = w\n",
    "                \n",
    "            elif w.obj_score <= delta.obj_score:\n",
    "                delta = w\n",
    "                \n",
    "        score_history['alpha'].append(alpha.obj_score)\n",
    "        score_history['beta'].append(beta.obj_score)\n",
    "        score_history['delta'].append(delta.obj_score)\n",
    "        \n",
    "        \n",
    "    #   4] Update positions of rest of wolves based on GWO mathematical formula\n",
    "    \n",
    "        # a decreases linearly from 2 to 0 as iteration proceeds\n",
    "        a = 2 * (1 - (i/iter_n))\n",
    "        \n",
    "        for w in wolves:\n",
    "            \n",
    "            # r1 & r2 are random vectors in [0, 1]\n",
    "            r1 = np.random.rand(soln_dim)\n",
    "            r2 = np.random.rand(soln_dim)\n",
    "            \n",
    "            A1 = a * ((2 * r1) - 1)\n",
    "            C1 = 2 * r2\n",
    "            \n",
    "            D_alpha = abs((C1 * alpha.position) - w.position) \n",
    "            X1 = alpha.position - (A1 * D_alpha)\n",
    "            \n",
    "            \n",
    "            r1 = np.random.rand(soln_dim)\n",
    "            r2 = np.random.rand(soln_dim)\n",
    "            \n",
    "            A2 = a * ((2 * r1) - 1)\n",
    "            C2 = 2 * r2\n",
    "\n",
    "            D_beta = abs((C2 * beta.position) - w.position) \n",
    "            X2 = beta.position - (A2 * D_beta)\n",
    "            \n",
    "            \n",
    "            r1 = np.random.rand(soln_dim)\n",
    "            r2 = np.random.rand(soln_dim)\n",
    "            \n",
    "            A3 = a * ((2 * r1) - 1)\n",
    "            C3 = 2 * r2\n",
    "\n",
    "            D_delta = abs((C3 * delta.position) - w.position) \n",
    "            X3 = delta.position - (A3 * D_delta)\n",
    "            \n",
    "            w.position = (X1 + X2 + X3)/3\n",
    "    \n",
    "    # 5] Return best solution (alpha)\n",
    "    \n",
    "    return alpha, score_history\n",
    "    "
   ]
  },
  {
   "cell_type": "code",
   "execution_count": 111,
   "id": "69814e82",
   "metadata": {},
   "outputs": [],
   "source": [
    "def dummy_obj_fun(sol):\n",
    "    return sum(sol*sol)"
   ]
  },
  {
   "cell_type": "code",
   "execution_count": 115,
   "id": "2c67a160",
   "metadata": {},
   "outputs": [
    {
     "data": {
      "text/plain": [
       "array([1.22282053, 1.19981636])"
      ]
     },
     "execution_count": 115,
     "metadata": {},
     "output_type": "execute_result"
    }
   ],
   "source": [
    "soln_dim = 2\n",
    "wolves_n = 10\n",
    "iter_n = 10\n",
    "\n",
    "best, history = GWO(dummy_obj_fun, soln_dim=soln_dim, wolves_n=wolves_n, iter_n=iter_n)\n",
    "best.position"
   ]
  },
  {
   "cell_type": "code",
   "execution_count": 123,
   "id": "2597d38d",
   "metadata": {},
   "outputs": [],
   "source": [
    "plt.plot(np.array(history['alpha']))\n",
    "plt.plot(history['beta'])\n",
    "plt.plot(history['delta'])\n",
    "plt.xlabel(\"Iteration No\")\n",
    "plt.ylabel(\"Fitness Score\")\n",
    "plt.title('Progress')\n",
    "plt.savefig(\"graph\")"
   ]
  },
  {
   "cell_type": "code",
   "execution_count": 124,
   "id": "536d7289",
   "metadata": {},
   "outputs": [
    {
     "name": "stdout",
     "output_type": "stream",
     "text": [
      "[34.64293531589878, 661.8830507903775, 17.384890492725873, 64.76337689979118, 9.564417888489913, 3.3647472915908154, 3.161963072441461, 2.518170254309074, 2.0986631086651033, 2.805694249935695]\n",
      "[259.8157393995144, 661.8830507903775, 172.88267309163203, 64.76337689979118, 11.076916316304931, 7.999674120890562, 4.391692347192761, 3.1591558624333675, 2.752177743354585, 2.8078365402709053]\n",
      "[890.0492664148505, 122.49883066917417, 314.6542646110572, 108.51339712572684, 11.290197383681367, 10.238659712660867, 5.233400120592433, 3.36027657246795, 3.1603048103494764, 2.8386590469014874]\n"
     ]
    }
   ],
   "source": [
    "print(history['alpha'])\n",
    "print(history['beta'])\n",
    "print(history['delta'])"
   ]
  },
  {
   "cell_type": "code",
   "execution_count": null,
   "id": "e312522f",
   "metadata": {},
   "outputs": [],
   "source": []
  }
 ],
 "metadata": {
  "kernelspec": {
   "display_name": "Python 3",
   "language": "python",
   "name": "python3"
  },
  "language_info": {
   "codemirror_mode": {
    "name": "ipython",
    "version": 3
   },
   "file_extension": ".py",
   "mimetype": "text/x-python",
   "name": "python",
   "nbconvert_exporter": "python",
   "pygments_lexer": "ipython3",
   "version": "3.8.5"
  }
 },
 "nbformat": 4,
 "nbformat_minor": 5
}
