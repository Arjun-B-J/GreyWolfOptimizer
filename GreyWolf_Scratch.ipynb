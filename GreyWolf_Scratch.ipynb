{
 "cells": [
  {
   "cell_type": "markdown",
   "id": "e0d9703a",
   "metadata": {},
   "source": [
    "## GreyWolf Optimizer"
   ]
  },
  {
   "cell_type": "code",
   "execution_count": 1,
   "id": "4cb54a3f",
   "metadata": {},
   "outputs": [
    {
     "name": "stdout",
     "output_type": "stream",
     "text": [
      "Requirement already satisfied: numpy in ./venv/lib/python3.8/site-packages (1.20.3)\r\n"
     ]
    }
   ],
   "source": [
    "!pip install numpy"
   ]
  },
  {
   "cell_type": "code",
   "execution_count": null,
   "id": "b1426cdd",
   "metadata": {},
   "outputs": [],
   "source": [
    "import numpy as np"
   ]
  },
  {
   "cell_type": "code",
   "execution_count": 3,
   "id": "0d95cbbb",
   "metadata": {},
   "outputs": [],
   "source": [
    "def GWO(obj_fun, soln_dim, wolves, iter_n):\n",
    "    \n",
    "    # obj_fun   - objective function to be minimized\n",
    "    # soln_dim  - dimension of solution vector\n",
    "    # wolves    - no. of searching wolves\n",
    "    # iter_n    - no of iterations\n",
    "    \n",
    "    \n",
    "    # 1] Initialize positions of wolves randomly\n",
    "    \n",
    "    # 2] Loop 3-5  iter_n times\n",
    "    \n",
    "    #   3] Calculate objective function\n",
    "    \n",
    "    #   4] Find best 3 solutions as alpha, beta and gamma\n",
    "    \n",
    "    #   5] Update positions of rest of wolves based on GWO mathematical formula\n",
    "    \n",
    "    # 6] Return best solution (alpha)\n",
    "    \n",
    "    \n",
    "    return 0\n",
    "    "
   ]
  },
  {
   "cell_type": "code",
   "execution_count": null,
   "id": "69814e82",
   "metadata": {},
   "outputs": [],
   "source": []
  }
 ],
 "metadata": {
  "kernelspec": {
   "display_name": "Python 3",
   "language": "python",
   "name": "python3"
  },
  "language_info": {
   "codemirror_mode": {
    "name": "ipython",
    "version": 3
   },
   "file_extension": ".py",
   "mimetype": "text/x-python",
   "name": "python",
   "nbconvert_exporter": "python",
   "pygments_lexer": "ipython3",
   "version": "3.8.5"
  }
 },
 "nbformat": 4,
 "nbformat_minor": 5
}
