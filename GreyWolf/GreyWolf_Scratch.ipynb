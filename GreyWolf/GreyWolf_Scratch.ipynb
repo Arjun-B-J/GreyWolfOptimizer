{
 "cells": [
  {
   "cell_type": "markdown",
   "id": "e0d9703a",
   "metadata": {},
   "source": [
    "## GreyWolf Optimizer"
   ]
  },
  {
   "cell_type": "code",
   "execution_count": 65,
   "id": "4cb54a3f",
   "metadata": {},
   "outputs": [
    {
     "name": "stdout",
     "output_type": "stream",
     "text": [
      "Requirement already satisfied: numpy in ./venv/lib/python3.8/site-packages (1.20.3)\n",
      "Requirement already satisfied: matplotlib in ./venv/lib/python3.8/site-packages (3.4.2)\n",
      "Requirement already satisfied: pillow>=6.2.0 in ./venv/lib/python3.8/site-packages (from matplotlib) (8.2.0)\n",
      "Requirement already satisfied: python-dateutil>=2.7 in ./venv/lib/python3.8/site-packages (from matplotlib) (2.8.1)\n",
      "Requirement already satisfied: kiwisolver>=1.0.1 in ./venv/lib/python3.8/site-packages (from matplotlib) (1.3.1)\n",
      "Requirement already satisfied: numpy>=1.16 in ./venv/lib/python3.8/site-packages (from matplotlib) (1.20.3)\n",
      "Requirement already satisfied: cycler>=0.10 in ./venv/lib/python3.8/site-packages (from matplotlib) (0.10.0)\n",
      "Requirement already satisfied: pyparsing>=2.2.1 in ./venv/lib/python3.8/site-packages (from matplotlib) (2.4.7)\n",
      "Requirement already satisfied: six>=1.5 in ./venv/lib/python3.8/site-packages (from python-dateutil>=2.7->matplotlib) (1.16.0)\n"
     ]
    }
   ],
   "source": [
    "!pip install numpy\n",
    "!pip install matplotlib"
   ]
  },
  {
   "cell_type": "code",
   "execution_count": 2,
   "id": "b1426cdd",
   "metadata": {},
   "outputs": [],
   "source": [
    "import numpy as np\n",
    "from matplotlib import pyplot as plt"
   ]
  },
  {
   "cell_type": "code",
   "execution_count": 3,
   "id": "47bf2a96",
   "metadata": {},
   "outputs": [],
   "source": [
    "class wolf:\n",
    "    \n",
    "    def __init__(self, dim):\n",
    "        self.position = 100 * np.random.rand(dim)\n",
    "        self.obj_score = float('inf')"
   ]
  },
  {
   "cell_type": "code",
   "execution_count": 4,
   "id": "0d95cbbb",
   "metadata": {},
   "outputs": [],
   "source": [
    "def GWO(obj_fun, soln_dim, wolves_n, iter_n):\n",
    "    \n",
    "    # obj_fun   - objective function to be minimized\n",
    "    # soln_dim  - dimension of solution vector\n",
    "    # wolves_n  - no. of searching wolves\n",
    "    # iter_n    - no of iterations\n",
    "    \n",
    "    wolves = []\n",
    "    \n",
    "    # 1] Initialize positions of wolves randomly\n",
    "    \n",
    "    for i in range(wolves_n):\n",
    "        w = wolf(soln_dim)\n",
    "        #print(w.position)\n",
    "        wolves.append(w)\n",
    "    \n",
    "    alpha , beta, delta = wolves[:3]\n",
    "    \n",
    "    score_history = {\n",
    "        'alpha' : [],\n",
    "        'beta' : [],\n",
    "        'delta' : []\n",
    "    }\n",
    "    \n",
    "    # 2] Loop 3-4  iter_n times\n",
    "    \n",
    "    for i in range(iter_n):\n",
    "        \n",
    "    #   3] Calculate objective function for all wolves and find best 3 alpha, beta & gamma\n",
    "        \n",
    "        for w in wolves:\n",
    "            w.obj_score = obj_fun(w.position)\n",
    "            \n",
    "            if w.obj_score <= alpha.obj_score:\n",
    "                delta = beta\n",
    "                beta = alpha\n",
    "                alpha = w\n",
    "            \n",
    "            elif w.obj_score <= beta.obj_score:\n",
    "                delta = beta\n",
    "                beta = w\n",
    "                \n",
    "            elif w.obj_score <= delta.obj_score:\n",
    "                delta = w\n",
    "                \n",
    "        score_history['alpha'].append(alpha.obj_score)\n",
    "        score_history['beta'].append(beta.obj_score)\n",
    "        score_history['delta'].append(delta.obj_score)\n",
    "        \n",
    "        \n",
    "    #   4] Update positions of rest of wolves based on GWO mathematical formula\n",
    "    \n",
    "        # a decreases linearly from 2 to 0 as iteration proceeds\n",
    "        a = 2 * (1 - (i/iter_n))\n",
    "        \n",
    "        for w in wolves:\n",
    "            \n",
    "            # r1 & r2 are random vectors in [0, 1]\n",
    "            r1 = np.random.rand(soln_dim)\n",
    "            r2 = np.random.rand(soln_dim)\n",
    "            \n",
    "            A1 = a * ((2 * r1) - 1)\n",
    "            C1 = 2 * r2\n",
    "            \n",
    "            D_alpha = abs((C1 * alpha.position) - w.position) \n",
    "            X1 = alpha.position - (A1 * D_alpha)\n",
    "            \n",
    "            \n",
    "            r1 = np.random.rand(soln_dim)\n",
    "            r2 = np.random.rand(soln_dim)\n",
    "            \n",
    "            A2 = a * ((2 * r1) - 1)\n",
    "            C2 = 2 * r2\n",
    "\n",
    "            D_beta = abs((C2 * beta.position) - w.position) \n",
    "            X2 = beta.position - (A2 * D_beta)\n",
    "            \n",
    "            \n",
    "            r1 = np.random.rand(soln_dim)\n",
    "            r2 = np.random.rand(soln_dim)\n",
    "            \n",
    "            A3 = a * ((2 * r1) - 1)\n",
    "            C3 = 2 * r2\n",
    "\n",
    "            D_delta = abs((C3 * delta.position) - w.position) \n",
    "            X3 = delta.position - (A3 * D_delta)\n",
    "            \n",
    "            w.position = (X1 + X2 + X3)/3\n",
    "    \n",
    "    # 5] Return best solution (alpha)\n",
    "    \n",
    "    return alpha, score_history\n",
    "    "
   ]
  },
  {
   "cell_type": "code",
   "execution_count": 5,
   "id": "69814e82",
   "metadata": {},
   "outputs": [],
   "source": [
    "def dummy_obj_fun(sol):\n",
    "    return sum(sol*sol)"
   ]
  },
  {
   "cell_type": "code",
   "execution_count": 15,
   "id": "2c67a160",
   "metadata": {},
   "outputs": [
    {
     "data": {
      "text/plain": [
       "array([-3.68987639e-05,  1.84974228e-04,  3.37788019e-04])"
      ]
     },
     "execution_count": 15,
     "metadata": {},
     "output_type": "execute_result"
    }
   ],
   "source": [
    "soln_dim = 3\n",
    "wolves_n = 150\n",
    "iter_n = 10\n",
    "\n",
    "best, history = GWO(dummy_obj_fun, soln_dim=soln_dim, wolves_n=wolves_n, iter_n=iter_n)\n",
    "best.position"
   ]
  },
  {
   "cell_type": "code",
   "execution_count": 16,
   "id": "2597d38d",
   "metadata": {},
   "outputs": [
    {
     "data": {
      "image/png": "[encoded data removed]",
      "text/plain": [
       "<Figure size 432x288 with 1 Axes>"
      ]
     },
     "metadata": {
      "needs_background": "light"
     },
     "output_type": "display_data"
    }
   ],
   "source": [
    "plt.plot(np.array(history['alpha']) ,label='alpha')\n",
    "plt.plot(np.array(history['beta']), label='beta')\n",
    "plt.plot(np.array(history['delta']), label='delta')\n",
    "plt.xlabel(\"Iteration No\")\n",
    "plt.ylabel(\"Fitness Score\")\n",
    "plt.title('Progress')\n",
    "plt.grid()\n",
    "plt.legend()\n",
    "plt.savefig(\"graph\")"
   ]
  },
  {
   "cell_type": "code",
   "execution_count": 17,
   "id": "536d7289",
   "metadata": {},
   "outputs": [
    {
     "name": "stdout",
     "output_type": "stream",
     "text": [
      "[87.74442734164452, 23.397306594807066, 3.2335240625188124, 0.5012183489827489, 0.06500977079342869, 0.017754978590692222, 0.0031355198765169656, 3.3276893984678424e-05, 4.694388565790032e-06, 2.723885183828924e-07]\n",
      "[217.05450581531719, 23.819329169207947, 5.388540891490693, 1.9230078190781792, 0.0993353267686046, 0.019920295184303854, 0.003277329129977312, 0.0001497491807366053, 9.269747695891768e-06, 6.181186643734202e-07]\n",
      "[276.45829393630754, 25.661886805881903, 6.778956305007788, 2.464989970474093, 0.3896419133645417, 0.020277860181780575, 0.0033359157386731097, 0.00016502192837053654, 1.7173148408796357e-05, 7.72185319994031e-07]\n"
     ]
    }
   ],
   "source": [
    "print(history['alpha'])\n",
    "print(history['beta'])\n",
    "print(history['delta'])"
   ]
  },
  {
   "cell_type": "code",
   "execution_count": null,
   "id": "e312522f",
   "metadata": {},
   "outputs": [],
   "source": []
  }
 ],
 "metadata": {
  "kernelspec": {
   "display_name": "Python 3",
   "language": "python",
   "name": "python3"
  },
  "language_info": {
   "codemirror_mode": {
    "name": "ipython",
    "version": 3
   },
   "file_extension": ".py",
   "mimetype": "text/x-python",
   "name": "python",
   "nbconvert_exporter": "python",
   "pygments_lexer": "ipython3",
   "version": "3.8.5"
  }
 },
 "nbformat": 4,
 "nbformat_minor": 5
}
